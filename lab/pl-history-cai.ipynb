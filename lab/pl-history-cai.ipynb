{
 "cells": [
  {
   "cell_type": "markdown",
   "metadata": {},
   "source": [
    "## Training Natural Language Understanding Component\n",
    "\n",
    "To train a Rasa NLU model we will need some real conversational data. grouping user messages by their intents. The intent describes what the messages mean. Another important part of training data are entities - pieces of information which help a chatbot understand what specifically a user is asking about"
   ]
  },
  {
   "cell_type": "code",
   "execution_count": null,
   "metadata": {},
   "outputs": [],
   "source": [
    "%matplotlib inline\n",
    "\n",
    "import logging, io, json, warnings\n",
    "logging.basicConfig(level=\"INFO\")\n",
    "warnings.filterwarnings('ignore')\n",
    "\n",
    "import sys\n",
    "!{sys.executable} -m spacy download en;\n",
    "\n",
    "def pprint(o):\n",
    "    # small helper to make dict dumps a bit prettier\n",
    "    print(json.dumps(o, indent=2))"
   ]
  },
  {
   "cell_type": "markdown",
   "metadata": {},
   "source": [
    "## Natural Language Understanding\n",
    "\n",
    "Before anything, our chatbot needs to understand the user before doing any processing. This is done by a Rasa NLU model which will parse user inputs and perform intent classification and entity extraction tasks. To do this, we have to provide some sample conversational data.\n",
    "\n",
    "First, we group possible user inputs by their intent (e.g. \"hello\", \"hi\", \"hey\" are different inputs with the same \"greet\" intent):"
   ]
  },
  {
   "cell_type": "code",
   "execution_count": 72,
   "metadata": {},
   "outputs": [
    {
     "name": "stdout",
     "output_type": "stream",
     "text": [
      "## intent:greet\r\n",
      "- hey\r\n",
      "- hello there\r\n",
      "- hi\r\n",
      "- hello there\r\n",
      "- good morning\r\n",
      "- good evening\r\n",
      "- hey there\r\n",
      "- let's go\r\n",
      "- hey dude\r\n",
      "- goodmorning\r\n",
      "- goodevening\r\n",
      "- good afternoon\r\n",
      "\r\n",
      "## intent:goodbye\r\n",
      "- see you\r\n",
      "- good by\r\n",
      "- cee you later\r\n",
      "- good night\r\n",
      "- good afternoon\r\n",
      "- bye\r\n",
      "- goodbye\r\n",
      "- have a nice day\r\n",
      "- see you around\r\n",
      "- bye bye\r\n",
      "- see you later\r\n",
      "- good bye\r\n",
      "\r\n",
      "## intent:affirm\r\n",
      "- yes\r\n",
      "- indeed\r\n",
      "- of course\r\n",
      "- that sounds good\r\n",
      "- correct\r\n",
      "- definitely\r\n",
      "- absolutely\r\n",
      "- sure\r\n",
      "- yep\r\n",
      "\r\n",
      "## intent:deny\r\n",
      "- no\r\n",
      "- never\r\n",
      "- I don't think so\r\n",
      "- don't like that\r\n",
      "- no way\r\n",
      "- not really\r\n",
      "- nope\r\n",
      "- definitely no\r\n",
      "- no no\r\n",
      "\r\n",
      "## intent:thanks\r\n",
      "- thanks\r\n",
      "- thank you\r\n",
      "- thank you very much\r\n",
      "- thanks a lot\r\n",
      "- thank you so much\r\n",
      "- thank you loads\r\n",
      "- tnx"
     ]
    }
   ],
   "source": [
    "%cat samples/sample_intents.md"
   ]
  },
  {
   "cell_type": "markdown",
   "metadata": {},
   "source": [
    "We also need to define the preprocessing pipeline that the user input has to go through for the intent/entity extractors to work. "
   ]
  },
  {
   "cell_type": "markdown",
   "metadata": {},
   "source": [
    "### Training the NLU Model"
   ]
  },
  {
   "cell_type": "code",
   "execution_count": 134,
   "metadata": {},
   "outputs": [
    {
     "name": "stderr",
     "output_type": "stream",
     "text": [
      "INFO:rasa_nlu.training_data.loading:Training data format of nlu_data/intents.md is md\n",
      "INFO:rasa_nlu.training_data.training_data:Training data stats: \n",
      "\t- intent examples: 69 (8 distinct intents)\n",
      "\t- Found intents: 'inform', 'goodbye', 'greet', 'thanks', 'deny', 'presence_check', 'results_query', 'affirm'\n",
      "\t- entity examples: 19 (2 distinct entities)\n",
      "\t- found entities: 'season', 'team'\n",
      "\n",
      "INFO:rasa_nlu.utils.spacy_utils:Trying to load spacy model with name 'en'\n",
      "INFO:rasa_nlu.components:Added 'nlp_spacy' to component cache. Key 'nlp_spacy-en'.\n",
      "INFO:rasa_nlu.model:Starting to train component nlp_spacy\n",
      "INFO:rasa_nlu.model:Finished training component.\n",
      "INFO:rasa_nlu.model:Starting to train component tokenizer_spacy\n",
      "INFO:rasa_nlu.model:Finished training component.\n",
      "INFO:rasa_nlu.model:Starting to train component intent_featurizer_spacy\n",
      "INFO:rasa_nlu.model:Finished training component.\n",
      "INFO:rasa_nlu.model:Starting to train component intent_entity_featurizer_regex\n",
      "INFO:rasa_nlu.model:Finished training component.\n",
      "INFO:rasa_nlu.model:Starting to train component ner_crf\n",
      "INFO:rasa_nlu.model:Finished training component.\n",
      "INFO:rasa_nlu.model:Starting to train component ner_synonyms\n",
      "INFO:rasa_nlu.model:Finished training component.\n",
      "INFO:rasa_nlu.model:Starting to train component intent_classifier_sklearn\n",
      "[Parallel(n_jobs=1)]: Done  12 out of  12 | elapsed:    0.1s finished\n",
      "INFO:rasa_nlu.model:Finished training component.\n",
      "INFO:rasa_nlu.model:Successfully saved model into '/Users/kasra/projects/cai-assignment/lab/models/nlu/default/current'\n"
     ]
    },
    {
     "name": "stdout",
     "output_type": "stream",
     "text": [
      "Fitting 2 folds for each of 6 candidates, totalling 12 fits\n"
     ]
    }
   ],
   "source": [
    "from rasa_nlu.training_data import load_data\n",
    "from rasa_nlu.model import Trainer\n",
    "from rasa_nlu import config\n",
    "\n",
    "# loading the nlu training samples\n",
    "training_data = load_data(\"nlu_data/intents.md\")\n",
    "\n",
    "# trainer to educate our pipeline\n",
    "trainer = Trainer(config.load(\"config.yml\"))\n",
    "\n",
    "# train the model!\n",
    "interpreter = trainer.train(training_data, verbose=True)\n",
    "\n",
    "# store it for future use\n",
    "model_directory = trainer.persist(\"./models/nlu\", fixed_model_name=\"current\")"
   ]
  },
  {
   "cell_type": "markdown",
   "metadata": {},
   "source": [
    "### Using and Evaluating the NLU Model\n",
    "\n",
    "We can evaluate the trained model to see how the model captures the intents and entities in test data:"
   ]
  },
  {
   "cell_type": "code",
   "execution_count": 135,
   "metadata": {},
   "outputs": [
    {
     "name": "stderr",
     "output_type": "stream",
     "text": [
      "INFO:rasa_nlu.components:Added 'nlp_spacy' to component cache. Key 'nlp_spacy-en'.\n",
      "INFO:rasa_nlu.training_data.loading:Training data format of nlu_data/intents.md is md\n",
      "INFO:rasa_nlu.training_data.training_data:Training data stats: \n",
      "\t- intent examples: 69 (8 distinct intents)\n",
      "\t- Found intents: 'inform', 'goodbye', 'greet', 'thanks', 'deny', 'presence_check', 'results_query', 'affirm'\n",
      "\t- entity examples: 19 (2 distinct entities)\n",
      "\t- found entities: 'season', 'team'\n",
      "\n",
      "INFO:rasa_nlu.evaluate:Intent evaluation results:\n",
      "INFO:rasa_nlu.evaluate:Intent Evaluation: Only considering those 69 examples that have a defined intent out of 69 examples\n",
      "INFO:rasa_nlu.evaluate:F1-Score:  0.9854820415879019\n",
      "INFO:rasa_nlu.evaluate:Precision: 0.9866220735785953\n",
      "INFO:rasa_nlu.evaluate:Accuracy:  0.9855072463768116\n",
      "INFO:rasa_nlu.evaluate:Classification report: \n",
      "                precision    recall  f1-score   support\n",
      "\n",
      "        affirm       1.00      1.00      1.00         9\n",
      "          deny       1.00      1.00      1.00         9\n",
      "       goodbye       0.92      1.00      0.96        12\n",
      "         greet       1.00      0.92      0.96        12\n",
      "        inform       1.00      1.00      1.00         7\n",
      "presence_check       1.00      1.00      1.00         5\n",
      " results_query       1.00      1.00      1.00         8\n",
      "        thanks       1.00      1.00      1.00         7\n",
      "\n",
      "   avg / total       0.99      0.99      0.99        69\n",
      "\n",
      "INFO:rasa_nlu.evaluate:There were some nlu intent classification errors. Use `--verbose` to show them in the log.\n",
      "INFO:rasa_nlu.evaluate:Model prediction errors saved to errors.json.\n",
      "INFO:rasa_nlu.evaluate:Confusion matrix, without normalization: \n",
      "[[ 9  0  0  0  0  0  0  0]\n",
      " [ 0  9  0  0  0  0  0  0]\n",
      " [ 0  0 12  0  0  0  0  0]\n",
      " [ 0  0  1 11  0  0  0  0]\n",
      " [ 0  0  0  0  7  0  0  0]\n",
      " [ 0  0  0  0  0  5  0  0]\n",
      " [ 0  0  0  0  0  0  8  0]\n",
      " [ 0  0  0  0  0  0  0  7]]\n"
     ]
    },
    {
     "data": {
      "image/png": "[encoded data removed]",
      "text/plain": [
       "<Figure size 432x288 with 2 Axes>"
      ]
     },
     "metadata": {
      "needs_background": "light"
     },
     "output_type": "display_data"
    },
    {
     "data": {
      "image/png": "[encoded data removed]",
      "text/plain": [
       "<Figure size 432x288 with 1 Axes>"
      ]
     },
     "metadata": {
      "needs_background": "light"
     },
     "output_type": "display_data"
    },
    {
     "name": "stderr",
     "output_type": "stream",
     "text": [
      "INFO:rasa_nlu.evaluate:Entity evaluation results:\n",
      "INFO:rasa_nlu.evaluate:Evaluation for entity extractor: ner_crf \n",
      "INFO:rasa_nlu.evaluate:F1-Score:  1.0\n",
      "INFO:rasa_nlu.evaluate:Precision: 1.0\n",
      "INFO:rasa_nlu.evaluate:Accuracy:  1.0\n",
      "INFO:rasa_nlu.evaluate:Classification report: \n",
      "             precision    recall  f1-score   support\n",
      "\n",
      "  no_entity       1.00      1.00      1.00       163\n",
      "     season       1.00      1.00      1.00        18\n",
      "       team       1.00      1.00      1.00        21\n",
      "\n",
      "avg / total       1.00      1.00      1.00       202\n",
      "\n"
     ]
    }
   ],
   "source": [
    "from rasa_nlu.evaluate import run_evaluation\n",
    "\n",
    "run_evaluation(\"nlu_data/intents.md\", model_directory)"
   ]
  },
  {
   "cell_type": "markdown",
   "metadata": {},
   "source": [
    "We are going to get good performance if we evaluate the model on training data. We can also have additional intents data set aside only for evaluation:"
   ]
  },
  {
   "cell_type": "code",
   "execution_count": 136,
   "metadata": {},
   "outputs": [
    {
     "name": "stderr",
     "output_type": "stream",
     "text": [
      "INFO:rasa_nlu.components:Added 'nlp_spacy' to component cache. Key 'nlp_spacy-en'.\n",
      "INFO:rasa_nlu.training_data.loading:Training data format of nlu_data/intents_eval.md is md\n",
      "INFO:rasa_nlu.training_data.training_data:Training data stats: \n",
      "\t- intent examples: 7 (2 distinct intents)\n",
      "\t- Found intents: 'results_query', 'greet'\n",
      "\t- entity examples: 6 (1 distinct entities)\n",
      "\t- found entities: 'team'\n",
      "\n",
      "INFO:rasa_nlu.evaluate:Intent evaluation results:\n",
      "INFO:rasa_nlu.evaluate:Intent Evaluation: Only considering those 7 examples that have a defined intent out of 7 examples\n",
      "INFO:rasa_nlu.evaluate:F1-Score:  0.7792207792207791\n",
      "INFO:rasa_nlu.evaluate:Precision: 0.8571428571428571\n",
      "INFO:rasa_nlu.evaluate:Accuracy:  0.7142857142857143\n",
      "INFO:rasa_nlu.evaluate:Classification report: \n",
      "               precision    recall  f1-score   support\n",
      "\n",
      "       affirm       0.00      0.00      0.00         0\n",
      "        greet       0.00      0.00      0.00         1\n",
      "       inform       0.00      0.00      0.00         0\n",
      "results_query       1.00      0.83      0.91         6\n",
      "\n",
      "  avg / total       0.86      0.71      0.78         7\n",
      "\n",
      "INFO:rasa_nlu.evaluate:There were some nlu intent classification errors. Use `--verbose` to show them in the log.\n",
      "INFO:rasa_nlu.evaluate:Model prediction errors saved to errors.json.\n",
      "INFO:rasa_nlu.evaluate:Confusion matrix, without normalization: \n",
      "[[0 0 0 0]\n",
      " [1 0 0 0]\n",
      " [0 0 0 0]\n",
      " [0 0 1 5]]\n"
     ]
    },
    {
     "data": {
      "image/png": "[encoded data removed]",
      "text/plain": [
       "<Figure size 432x288 with 2 Axes>"
      ]
     },
     "metadata": {
      "needs_background": "light"
     },
     "output_type": "display_data"
    },
    {
     "data": {
      "image/png": "[encoded data removed]",
      "text/plain": [
       "<Figure size 432x288 with 1 Axes>"
      ]
     },
     "metadata": {
      "needs_background": "light"
     },
     "output_type": "display_data"
    },
    {
     "name": "stderr",
     "output_type": "stream",
     "text": [
      "INFO:rasa_nlu.evaluate:Entity evaluation results:\n",
      "INFO:rasa_nlu.evaluate:Evaluation for entity extractor: ner_crf \n",
      "INFO:rasa_nlu.evaluate:F1-Score:  0.9280000000000002\n",
      "INFO:rasa_nlu.evaluate:Precision: 0.9384615384615385\n",
      "INFO:rasa_nlu.evaluate:Accuracy:  0.9333333333333333\n",
      "INFO:rasa_nlu.evaluate:Classification report: \n",
      "             precision    recall  f1-score   support\n",
      "\n",
      "  no_entity       0.92      1.00      0.96        24\n",
      "       team       1.00      0.67      0.80         6\n",
      "\n",
      "avg / total       0.94      0.93      0.93        30\n",
      "\n"
     ]
    }
   ],
   "source": [
    "run_evaluation(\"nlu_data/intents_eval.md\", model_directory)"
   ]
  },
  {
   "cell_type": "markdown",
   "metadata": {},
   "source": [
    "We can also test the model's performance continously with user input:"
   ]
  },
  {
   "cell_type": "code",
   "execution_count": 137,
   "metadata": {},
   "outputs": [
    {
     "name": "stdout",
     "output_type": "stream",
     "text": [
      "give me the results for arsenal in 2003-04\n",
      "Intent:\n",
      "{\n",
      "  \"name\": \"results_query\",\n",
      "  \"confidence\": 0.4565207830535907\n",
      "}\n",
      "Entities:\n",
      "[\n",
      "  {\n",
      "    \"start\": 24,\n",
      "    \"end\": 31,\n",
      "    \"value\": \"arsenal\",\n",
      "    \"entity\": \"team\",\n",
      "    \"confidence\": 0.9792622886153938,\n",
      "    \"extractor\": \"ner_crf\"\n",
      "  },\n",
      "  {\n",
      "    \"start\": 35,\n",
      "    \"end\": 42,\n",
      "    \"value\": \"2003 - 04\",\n",
      "    \"entity\": \"season\",\n",
      "    \"confidence\": 0.9512277250240796,\n",
      "    \"extractor\": \"ner_crf\"\n",
      "  }\n",
      "]\n",
      "stop\n",
      "Intent:\n",
      "{\n",
      "  \"name\": \"greet\",\n",
      "  \"confidence\": 0.2882134661948092\n",
      "}\n",
      "Entities:\n",
      "[]\n"
     ]
    }
   ],
   "source": [
    "while True:\n",
    "    q = input()\n",
    "    parsed_query = interpreter.parse(q)\n",
    "    parsed_intent = parsed_query.get('intent')\n",
    "    parsed_entities = parsed_query.get('entities')\n",
    "    \n",
    "    print(\"Intent:\"), pprint(parsed_intent)\n",
    "    print(\"Entities:\"), pprint(parsed_entities)\n",
    "    if q == 'stop':\n",
    "        break"
   ]
  },
  {
   "cell_type": "markdown",
   "metadata": {},
   "source": [
    "## Handling the Dialogue\n",
    "\n",
    "\n",
    "We have taught our assistant how to understand user inputs. Now, it's time to teach it how to make responses by training a dialogue management model using Rasa Core.\n",
    "\n",
    "### Defining the Bot's Actions\n",
    "\n",
    "The bot's responses either follow a simple text response (utter action) or can be implemented as custom actions which are coded in Python classes:"
   ]
  },
  {
   "cell_type": "code",
   "execution_count": 119,
   "metadata": {},
   "outputs": [
    {
     "name": "stdout",
     "output_type": "stream",
     "text": [
      "from rasa_core_sdk import Action\r\n",
      "\r\n",
      "class SampleAction(Action):\r\n",
      "    def name(self):\r\n",
      "        return \"action_sample_action\"\r\n",
      "\r\n",
      "    def run(self, dispatcher, tracker, domain):\r\n",
      "        slot = tracker.get_slot('slot')\r\n",
      "        \r\n",
      "        dispatcher.utter_message(\"slot value = {}\".format(slot))"
     ]
    }
   ],
   "source": [
    "%cat samples/sample_action.py"
   ]
  },
  {
   "cell_type": "markdown",
   "metadata": {},
   "source": [
    "### Defining the Domain\n",
    "\n",
    "The domain specifies the universe that the bot operates in. In our case this universe consists of intents and entities as well as the actions which appear in training stories. The domain can also contain the templates for the answers a bot should use to respond to the user and slots which will help the bot to keep track of the context. "
   ]
  },
  {
   "cell_type": "code",
   "execution_count": 75,
   "metadata": {},
   "outputs": [
    {
     "name": "stdout",
     "output_type": "stream",
     "text": [
      "intents:\r\n",
      "  - greet \r\n",
      "  - goodbye\r\n",
      "  - affirm\r\n",
      "  - deny\r\n",
      "  - thanks\r\n",
      "\r\n",
      "slots:\r\n",
      "  sample_slot:\r\n",
      "    type: text\r\n",
      "\r\n",
      "entities:\r\n",
      "  - sample_entity\r\n",
      "\r\n",
      "actions:\r\n",
      "  - utter_greet\r\n",
      "  - utter_goodbye\r\n",
      "  \r\n",
      "templates:\r\n",
      "  utter_greet:\r\n",
      "    - text: \"Hello!\"\r\n",
      "    - text: \"Hey!!\"\r\n",
      "  utter_goodbye:\r\n",
      "    - text: \"Bye!\"\r\n",
      "  "
     ]
    }
   ],
   "source": [
    "%cat samples/sample_domain.yml"
   ]
  },
  {
   "cell_type": "markdown",
   "metadata": {},
   "source": [
    "## Stories\n",
    "\n",
    "Dialogues are represented with stories in Rasa. A story is an actual conversation where user inputs are expressed as intents as well as corresponding entities, and chatbot responses are expressed as actions:"
   ]
  },
  {
   "cell_type": "code",
   "execution_count": 129,
   "metadata": {},
   "outputs": [
    {
     "name": "stdout",
     "output_type": "stream",
     "text": [
      "## Sample Story\r\n",
      "* greet\r\n",
      "    - utter_greet\r\n",
      "* results_query\r\n",
      "    - utter_what_team\r\n",
      "* inform{\"team\":\"Arsenal\"}\r\n",
      "    - utter_what_season\r\n",
      "* inform{\"season\":\"1996-97\"}\r\n",
      "    - action_get_results\r\n",
      "* thanks\r\n",
      "    - utter_np\r\n",
      "* goodbye\r\n",
      "    - utter_goodbye"
     ]
    }
   ],
   "source": [
    "%cat samples/sample_stories.md"
   ]
  },
  {
   "cell_type": "markdown",
   "metadata": {},
   "source": [
    "Here is a visualization of the interaction sequence of the stories:\n",
    "\n",
    "![](story_graph.png)"
   ]
  },
  {
   "cell_type": "markdown",
   "metadata": {},
   "source": [
    "## Training the Dialogue Model\n",
    "\n",
    "With everything in the domain defined, we can now train the dialogue model which handles the users queries:"
   ]
  },
  {
   "cell_type": "code",
   "execution_count": 138,
   "metadata": {},
   "outputs": [
    {
     "name": "stderr",
     "output_type": "stream",
     "text": [
      "Processed Story Blocks: 100%|██████████| 7/7 [00:00<00:00, 255.86it/s, # trackers=1]\n",
      "Processed Story Blocks: 100%|██████████| 7/7 [00:00<00:00, 167.14it/s, # trackers=7]\n",
      "Processed Story Blocks: 100%|██████████| 7/7 [00:00<00:00, 103.02it/s, # trackers=15]\n",
      "Processed Story Blocks: 100%|██████████| 7/7 [00:00<00:00, 115.12it/s, # trackers=14]\n",
      "Processed actions: 309it [00:01, 264.41it/s, # examples=309]\n",
      "INFO:rasa_core.policies.keras_policy:Fitting model with 309 total samples and a validation split of 0.0\n"
     ]
    },
    {
     "name": "stdout",
     "output_type": "stream",
     "text": [
      "_________________________________________________________________\n",
      "Layer (type)                 Output Shape              Param #   \n",
      "=================================================================\n",
      "masking (Masking)            (None, 5, 24)             0         \n",
      "_________________________________________________________________\n",
      "lstm (LSTM)                  (None, 32)                7296      \n",
      "_________________________________________________________________\n",
      "dense (Dense)                (None, 12)                396       \n",
      "_________________________________________________________________\n",
      "activation (Activation)      (None, 12)                0         \n",
      "=================================================================\n",
      "Total params: 7,692\n",
      "Trainable params: 7,692\n",
      "Non-trainable params: 0\n",
      "_________________________________________________________________\n",
      "Epoch 1/200\n",
      "309/309 [==============================] - 1s 3ms/step - loss: 2.4131 - acc: 0.1715\n",
      "Epoch 2/200\n",
      "309/309 [==============================] - 0s 304us/step - loss: 2.2388 - acc: 0.5049\n",
      "Epoch 3/200\n",
      "309/309 [==============================] - 0s 307us/step - loss: 2.0699 - acc: 0.5016\n",
      "Epoch 4/200\n",
      "309/309 [==============================] - 0s 320us/step - loss: 1.9022 - acc: 0.5016\n",
      "Epoch 5/200\n",
      "309/309 [==============================] - 0s 319us/step - loss: 1.7998 - acc: 0.5016\n",
      "Epoch 6/200\n",
      "309/309 [==============================] - 0s 321us/step - loss: 1.7275 - acc: 0.5016\n",
      "Epoch 7/200\n",
      "309/309 [==============================] - 0s 314us/step - loss: 1.6873 - acc: 0.5016\n",
      "Epoch 8/200\n",
      "309/309 [==============================] - 0s 318us/step - loss: 1.6409 - acc: 0.5016\n",
      "Epoch 9/200\n",
      "309/309 [==============================] - 0s 323us/step - loss: 1.6242 - acc: 0.5016\n",
      "Epoch 10/200\n",
      "309/309 [==============================] - 0s 336us/step - loss: 1.5989 - acc: 0.5016\n",
      "Epoch 11/200\n",
      "309/309 [==============================] - 0s 318us/step - loss: 1.5618 - acc: 0.5016\n",
      "Epoch 12/200\n",
      "309/309 [==============================] - 0s 313us/step - loss: 1.5542 - acc: 0.5016\n",
      "Epoch 13/200\n",
      "309/309 [==============================] - 0s 306us/step - loss: 1.5337 - acc: 0.5016\n",
      "Epoch 14/200\n",
      "309/309 [==============================] - 0s 324us/step - loss: 1.5073 - acc: 0.5016\n",
      "Epoch 15/200\n",
      "309/309 [==============================] - 0s 325us/step - loss: 1.4926 - acc: 0.5016\n",
      "Epoch 16/200\n",
      "309/309 [==============================] - 0s 313us/step - loss: 1.4780 - acc: 0.5016\n",
      "Epoch 17/200\n",
      "309/309 [==============================] - 0s 317us/step - loss: 1.4531 - acc: 0.5016\n",
      "Epoch 18/200\n",
      "309/309 [==============================] - 0s 321us/step - loss: 1.4353 - acc: 0.5049\n",
      "Epoch 19/200\n",
      "309/309 [==============================] - 0s 328us/step - loss: 1.4177 - acc: 0.5049\n",
      "Epoch 20/200\n",
      "309/309 [==============================] - 0s 320us/step - loss: 1.3922 - acc: 0.5016\n",
      "Epoch 21/200\n",
      "309/309 [==============================] - 0s 316us/step - loss: 1.3609 - acc: 0.5016\n",
      "Epoch 22/200\n",
      "309/309 [==============================] - 0s 329us/step - loss: 1.3556 - acc: 0.5016\n",
      "Epoch 23/200\n",
      "309/309 [==============================] - 0s 327us/step - loss: 1.3278 - acc: 0.5081\n",
      "Epoch 24/200\n",
      "309/309 [==============================] - 0s 328us/step - loss: 1.3002 - acc: 0.5049\n",
      "Epoch 25/200\n",
      "309/309 [==============================] - 0s 351us/step - loss: 1.2717 - acc: 0.5049\n",
      "Epoch 26/200\n",
      "309/309 [==============================] - 0s 311us/step - loss: 1.2526 - acc: 0.5049\n",
      "Epoch 27/200\n",
      "309/309 [==============================] - 0s 313us/step - loss: 1.2069 - acc: 0.5113\n",
      "Epoch 28/200\n",
      "309/309 [==============================] - 0s 288us/step - loss: 1.1842 - acc: 0.5049\n",
      "Epoch 29/200\n",
      "309/309 [==============================] - 0s 335us/step - loss: 1.1627 - acc: 0.5243\n",
      "Epoch 30/200\n",
      "309/309 [==============================] - 0s 300us/step - loss: 1.1211 - acc: 0.5405\n",
      "Epoch 31/200\n",
      "309/309 [==============================] - 0s 293us/step - loss: 1.0829 - acc: 0.5663\n",
      "Epoch 32/200\n",
      "309/309 [==============================] - 0s 319us/step - loss: 1.0470 - acc: 0.6052\n",
      "Epoch 33/200\n",
      "309/309 [==============================] - 0s 328us/step - loss: 1.0010 - acc: 0.6408\n",
      "Epoch 34/200\n",
      "309/309 [==============================] - 0s 312us/step - loss: 0.9531 - acc: 0.6570\n",
      "Epoch 35/200\n",
      "309/309 [==============================] - 0s 323us/step - loss: 0.9138 - acc: 0.7152\n",
      "Epoch 36/200\n",
      "309/309 [==============================] - 0s 362us/step - loss: 0.8660 - acc: 0.7249\n",
      "Epoch 37/200\n",
      "309/309 [==============================] - 0s 310us/step - loss: 0.7921 - acc: 0.8220\n",
      "Epoch 38/200\n",
      "309/309 [==============================] - 0s 323us/step - loss: 0.7685 - acc: 0.8479\n",
      "Epoch 39/200\n",
      "309/309 [==============================] - 0s 336us/step - loss: 0.7331 - acc: 0.8220\n",
      "Epoch 40/200\n",
      "309/309 [==============================] - 0s 334us/step - loss: 0.7030 - acc: 0.8544\n",
      "Epoch 41/200\n",
      "309/309 [==============================] - 0s 332us/step - loss: 0.6604 - acc: 0.8706\n",
      "Epoch 42/200\n",
      "309/309 [==============================] - 0s 344us/step - loss: 0.6487 - acc: 0.8673\n",
      "Epoch 43/200\n",
      "309/309 [==============================] - 0s 324us/step - loss: 0.6251 - acc: 0.8835\n",
      "Epoch 44/200\n",
      "309/309 [==============================] - 0s 365us/step - loss: 0.5895 - acc: 0.8900\n",
      "Epoch 45/200\n",
      "309/309 [==============================] - 0s 311us/step - loss: 0.5818 - acc: 0.8964\n",
      "Epoch 46/200\n",
      "309/309 [==============================] - 0s 337us/step - loss: 0.5471 - acc: 0.8964\n",
      "Epoch 47/200\n",
      "309/309 [==============================] - 0s 323us/step - loss: 0.5393 - acc: 0.8997\n",
      "Epoch 48/200\n",
      "309/309 [==============================] - 0s 351us/step - loss: 0.5154 - acc: 0.9126\n",
      "Epoch 49/200\n",
      "309/309 [==============================] - 0s 362us/step - loss: 0.4913 - acc: 0.9256\n",
      "Epoch 50/200\n",
      "309/309 [==============================] - 0s 318us/step - loss: 0.4611 - acc: 0.9353\n",
      "Epoch 51/200\n",
      "309/309 [==============================] - 0s 316us/step - loss: 0.4529 - acc: 0.9223\n",
      "Epoch 52/200\n",
      "309/309 [==============================] - 0s 352us/step - loss: 0.4389 - acc: 0.9223\n",
      "Epoch 53/200\n",
      "309/309 [==============================] - 0s 308us/step - loss: 0.4352 - acc: 0.9353\n",
      "Epoch 54/200\n",
      "309/309 [==============================] - 0s 365us/step - loss: 0.4207 - acc: 0.9547\n",
      "Epoch 55/200\n",
      "309/309 [==============================] - 0s 305us/step - loss: 0.3771 - acc: 0.9547\n",
      "Epoch 56/200\n",
      "309/309 [==============================] - 0s 347us/step - loss: 0.3729 - acc: 0.9709\n",
      "Epoch 57/200\n",
      "309/309 [==============================] - 0s 313us/step - loss: 0.3521 - acc: 0.9482\n",
      "Epoch 58/200\n",
      "309/309 [==============================] - 0s 341us/step - loss: 0.3592 - acc: 0.9385\n",
      "Epoch 59/200\n",
      "309/309 [==============================] - 0s 321us/step - loss: 0.3429 - acc: 0.9612\n",
      "Epoch 60/200\n",
      "309/309 [==============================] - 0s 376us/step - loss: 0.3281 - acc: 0.9417\n",
      "Epoch 61/200\n",
      "309/309 [==============================] - 0s 319us/step - loss: 0.2904 - acc: 0.9709\n",
      "Epoch 62/200\n",
      "309/309 [==============================] - 0s 323us/step - loss: 0.3167 - acc: 0.9579\n",
      "Epoch 63/200\n",
      "309/309 [==============================] - 0s 349us/step - loss: 0.3015 - acc: 0.9676\n",
      "Epoch 64/200\n",
      "309/309 [==============================] - 0s 325us/step - loss: 0.2911 - acc: 0.9515\n",
      "Epoch 65/200\n",
      "309/309 [==============================] - 0s 358us/step - loss: 0.2433 - acc: 0.9838\n",
      "Epoch 66/200\n",
      "309/309 [==============================] - 0s 303us/step - loss: 0.2877 - acc: 0.9450\n",
      "Epoch 67/200\n",
      "309/309 [==============================] - 0s 351us/step - loss: 0.2256 - acc: 0.9741\n",
      "Epoch 68/200\n",
      "309/309 [==============================] - 0s 321us/step - loss: 0.2291 - acc: 0.9806\n",
      "Epoch 69/200\n",
      "309/309 [==============================] - 0s 337us/step - loss: 0.2227 - acc: 0.9871\n",
      "Epoch 70/200\n",
      "309/309 [==============================] - 0s 294us/step - loss: 0.2217 - acc: 0.9806\n",
      "Epoch 71/200\n",
      "309/309 [==============================] - 0s 341us/step - loss: 0.2040 - acc: 0.9903\n",
      "Epoch 72/200\n",
      "309/309 [==============================] - 0s 352us/step - loss: 0.1937 - acc: 0.9806\n",
      "Epoch 73/200\n",
      "309/309 [==============================] - 0s 326us/step - loss: 0.1928 - acc: 0.9676\n",
      "Epoch 74/200\n",
      "309/309 [==============================] - 0s 348us/step - loss: 0.1832 - acc: 0.9838\n",
      "Epoch 75/200\n"
     ]
    },
    {
     "name": "stdout",
     "output_type": "stream",
     "text": [
      "309/309 [==============================] - 0s 328us/step - loss: 0.1875 - acc: 0.9838\n",
      "Epoch 76/200\n",
      "309/309 [==============================] - 0s 303us/step - loss: 0.2072 - acc: 0.9709\n",
      "Epoch 77/200\n",
      "309/309 [==============================] - 0s 305us/step - loss: 0.1764 - acc: 0.9773\n",
      "Epoch 78/200\n",
      "309/309 [==============================] - 0s 304us/step - loss: 0.1784 - acc: 0.9773\n",
      "Epoch 79/200\n",
      "309/309 [==============================] - 0s 282us/step - loss: 0.1770 - acc: 0.9806\n",
      "Epoch 80/200\n",
      "309/309 [==============================] - 0s 287us/step - loss: 0.1857 - acc: 0.9741\n",
      "Epoch 81/200\n",
      "309/309 [==============================] - 0s 261us/step - loss: 0.1907 - acc: 0.9709\n",
      "Epoch 82/200\n",
      "309/309 [==============================] - 0s 266us/step - loss: 0.1579 - acc: 0.9741\n",
      "Epoch 83/200\n",
      "309/309 [==============================] - 0s 297us/step - loss: 0.1627 - acc: 0.9741\n",
      "Epoch 84/200\n",
      "309/309 [==============================] - 0s 296us/step - loss: 0.1718 - acc: 0.9676\n",
      "Epoch 85/200\n",
      "309/309 [==============================] - 0s 286us/step - loss: 0.1528 - acc: 0.9806\n",
      "Epoch 86/200\n",
      "309/309 [==============================] - 0s 276us/step - loss: 0.1716 - acc: 0.9676\n",
      "Epoch 87/200\n",
      "309/309 [==============================] - 0s 287us/step - loss: 0.1498 - acc: 0.9741\n",
      "Epoch 88/200\n",
      "309/309 [==============================] - 0s 269us/step - loss: 0.1179 - acc: 0.9935\n",
      "Epoch 89/200\n",
      "309/309 [==============================] - 0s 304us/step - loss: 0.1426 - acc: 0.9903\n",
      "Epoch 90/200\n",
      "309/309 [==============================] - 0s 333us/step - loss: 0.1340 - acc: 0.9806\n",
      "Epoch 91/200\n",
      "309/309 [==============================] - 0s 273us/step - loss: 0.1282 - acc: 0.9773\n",
      "Epoch 92/200\n",
      "309/309 [==============================] - 0s 275us/step - loss: 0.1171 - acc: 0.9838\n",
      "Epoch 93/200\n",
      "309/309 [==============================] - 0s 278us/step - loss: 0.1114 - acc: 0.9871\n",
      "Epoch 94/200\n",
      "309/309 [==============================] - 0s 270us/step - loss: 0.1237 - acc: 0.9741\n",
      "Epoch 95/200\n",
      "309/309 [==============================] - 0s 285us/step - loss: 0.1152 - acc: 0.9935\n",
      "Epoch 96/200\n",
      "309/309 [==============================] - 0s 269us/step - loss: 0.0937 - acc: 0.9871\n",
      "Epoch 97/200\n",
      "309/309 [==============================] - 0s 292us/step - loss: 0.1117 - acc: 0.9871\n",
      "Epoch 98/200\n",
      "309/309 [==============================] - 0s 288us/step - loss: 0.1162 - acc: 0.9741\n",
      "Epoch 99/200\n",
      "309/309 [==============================] - 0s 282us/step - loss: 0.1107 - acc: 0.9871\n",
      "Epoch 100/200\n",
      "309/309 [==============================] - 0s 282us/step - loss: 0.1136 - acc: 0.9838\n",
      "Epoch 101/200\n",
      "309/309 [==============================] - 0s 283us/step - loss: 0.0927 - acc: 0.9806\n",
      "Epoch 102/200\n",
      "309/309 [==============================] - 0s 270us/step - loss: 0.1066 - acc: 0.9838\n",
      "Epoch 103/200\n",
      "309/309 [==============================] - 0s 298us/step - loss: 0.1212 - acc: 0.9773\n",
      "Epoch 104/200\n",
      "309/309 [==============================] - 0s 280us/step - loss: 0.0979 - acc: 0.9806\n",
      "Epoch 105/200\n",
      "309/309 [==============================] - 0s 287us/step - loss: 0.0796 - acc: 0.9871\n",
      "Epoch 106/200\n",
      "309/309 [==============================] - 0s 289us/step - loss: 0.0884 - acc: 0.9935\n",
      "Epoch 107/200\n",
      "309/309 [==============================] - 0s 280us/step - loss: 0.0715 - acc: 0.9935\n",
      "Epoch 108/200\n",
      "309/309 [==============================] - 0s 273us/step - loss: 0.0918 - acc: 0.9935\n",
      "Epoch 109/200\n",
      "309/309 [==============================] - 0s 278us/step - loss: 0.0819 - acc: 0.9935\n",
      "Epoch 110/200\n",
      "309/309 [==============================] - 0s 282us/step - loss: 0.0994 - acc: 0.9806\n",
      "Epoch 111/200\n",
      "309/309 [==============================] - 0s 281us/step - loss: 0.0827 - acc: 0.9903\n",
      "Epoch 112/200\n",
      "309/309 [==============================] - 0s 286us/step - loss: 0.1109 - acc: 0.9773\n",
      "Epoch 113/200\n",
      "309/309 [==============================] - 0s 271us/step - loss: 0.1023 - acc: 0.9773\n",
      "Epoch 114/200\n",
      "309/309 [==============================] - 0s 278us/step - loss: 0.0715 - acc: 0.9935\n",
      "Epoch 115/200\n",
      "309/309 [==============================] - 0s 281us/step - loss: 0.0825 - acc: 0.9741\n",
      "Epoch 116/200\n",
      "309/309 [==============================] - 0s 289us/step - loss: 0.0841 - acc: 0.9903\n",
      "Epoch 117/200\n",
      "309/309 [==============================] - 0s 307us/step - loss: 0.0758 - acc: 0.9806\n",
      "Epoch 118/200\n",
      "309/309 [==============================] - 0s 275us/step - loss: 0.0629 - acc: 1.0000\n",
      "Epoch 119/200\n",
      "309/309 [==============================] - 0s 274us/step - loss: 0.0836 - acc: 0.9903\n",
      "Epoch 120/200\n",
      "309/309 [==============================] - 0s 284us/step - loss: 0.0769 - acc: 0.9903\n",
      "Epoch 121/200\n",
      "309/309 [==============================] - 0s 280us/step - loss: 0.0664 - acc: 0.9903\n",
      "Epoch 122/200\n",
      "309/309 [==============================] - 0s 272us/step - loss: 0.0728 - acc: 0.9968\n",
      "Epoch 123/200\n",
      "309/309 [==============================] - 0s 303us/step - loss: 0.0654 - acc: 0.9903\n",
      "Epoch 124/200\n",
      "309/309 [==============================] - 0s 279us/step - loss: 0.0678 - acc: 0.9903\n",
      "Epoch 125/200\n",
      "309/309 [==============================] - 0s 276us/step - loss: 0.0778 - acc: 0.9903\n",
      "Epoch 126/200\n",
      "309/309 [==============================] - 0s 277us/step - loss: 0.0627 - acc: 0.9903\n",
      "Epoch 127/200\n",
      "309/309 [==============================] - 0s 290us/step - loss: 0.0716 - acc: 0.9903\n",
      "Epoch 128/200\n",
      "309/309 [==============================] - 0s 282us/step - loss: 0.0672 - acc: 0.9838\n",
      "Epoch 129/200\n",
      "309/309 [==============================] - 0s 306us/step - loss: 0.0773 - acc: 0.9838\n",
      "Epoch 130/200\n",
      "309/309 [==============================] - 0s 286us/step - loss: 0.0671 - acc: 0.9903\n",
      "Epoch 131/200\n",
      "309/309 [==============================] - 0s 299us/step - loss: 0.0558 - acc: 0.9935\n",
      "Epoch 132/200\n",
      "309/309 [==============================] - 0s 282us/step - loss: 0.0576 - acc: 0.9935\n",
      "Epoch 133/200\n",
      "309/309 [==============================] - 0s 283us/step - loss: 0.0547 - acc: 0.9935\n",
      "Epoch 134/200\n",
      "309/309 [==============================] - 0s 292us/step - loss: 0.0775 - acc: 0.9773\n",
      "Epoch 135/200\n",
      "309/309 [==============================] - 0s 284us/step - loss: 0.0669 - acc: 0.9871\n",
      "Epoch 136/200\n",
      "309/309 [==============================] - 0s 281us/step - loss: 0.0679 - acc: 0.9871\n",
      "Epoch 137/200\n",
      "309/309 [==============================] - 0s 279us/step - loss: 0.0331 - acc: 1.0000\n",
      "Epoch 138/200\n",
      "309/309 [==============================] - 0s 275us/step - loss: 0.0632 - acc: 0.9838\n",
      "Epoch 139/200\n",
      "309/309 [==============================] - 0s 288us/step - loss: 0.0468 - acc: 0.9935\n",
      "Epoch 140/200\n",
      "309/309 [==============================] - 0s 289us/step - loss: 0.0651 - acc: 0.9838\n",
      "Epoch 141/200\n",
      "309/309 [==============================] - 0s 270us/step - loss: 0.0678 - acc: 0.9838\n",
      "Epoch 142/200\n",
      "309/309 [==============================] - 0s 278us/step - loss: 0.0646 - acc: 0.9903\n",
      "Epoch 143/200\n",
      "309/309 [==============================] - 0s 297us/step - loss: 0.0719 - acc: 0.9871\n",
      "Epoch 144/200\n",
      "309/309 [==============================] - 0s 266us/step - loss: 0.0366 - acc: 0.9968\n",
      "Epoch 145/200\n",
      "309/309 [==============================] - 0s 265us/step - loss: 0.0650 - acc: 0.9903\n",
      "Epoch 146/200\n",
      "309/309 [==============================] - 0s 292us/step - loss: 0.0402 - acc: 0.9935\n",
      "Epoch 147/200\n",
      "309/309 [==============================] - 0s 278us/step - loss: 0.0539 - acc: 0.9935\n",
      "Epoch 148/200\n",
      "309/309 [==============================] - 0s 293us/step - loss: 0.0483 - acc: 0.9935\n",
      "Epoch 149/200\n",
      "309/309 [==============================] - 0s 277us/step - loss: 0.0377 - acc: 0.9935\n",
      "Epoch 150/200\n",
      "309/309 [==============================] - 0s 270us/step - loss: 0.0537 - acc: 0.9871\n",
      "Epoch 151/200\n",
      "309/309 [==============================] - 0s 300us/step - loss: 0.0614 - acc: 0.9806\n",
      "Epoch 152/200\n",
      "309/309 [==============================] - 0s 304us/step - loss: 0.0538 - acc: 0.9871\n",
      "Epoch 153/200\n",
      "309/309 [==============================] - 0s 292us/step - loss: 0.0463 - acc: 0.9903\n",
      "Epoch 154/200\n",
      "309/309 [==============================] - 0s 279us/step - loss: 0.0497 - acc: 0.9935\n",
      "Epoch 155/200\n",
      "309/309 [==============================] - 0s 288us/step - loss: 0.0364 - acc: 0.9968\n",
      "Epoch 156/200\n",
      "309/309 [==============================] - 0s 287us/step - loss: 0.0486 - acc: 0.9903\n",
      "Epoch 157/200\n"
     ]
    },
    {
     "name": "stdout",
     "output_type": "stream",
     "text": [
      "309/309 [==============================] - 0s 310us/step - loss: 0.0406 - acc: 0.9968\n",
      "Epoch 158/200\n",
      "309/309 [==============================] - 0s 278us/step - loss: 0.0347 - acc: 0.9935\n",
      "Epoch 159/200\n",
      "309/309 [==============================] - 0s 270us/step - loss: 0.0525 - acc: 0.9903\n",
      "Epoch 160/200\n",
      "309/309 [==============================] - 0s 265us/step - loss: 0.0514 - acc: 0.9903\n",
      "Epoch 161/200\n",
      "309/309 [==============================] - 0s 256us/step - loss: 0.0456 - acc: 0.9935\n",
      "Epoch 162/200\n",
      "309/309 [==============================] - 0s 259us/step - loss: 0.0438 - acc: 0.9903\n",
      "Epoch 163/200\n",
      "309/309 [==============================] - 0s 250us/step - loss: 0.0391 - acc: 0.9935\n",
      "Epoch 164/200\n",
      "309/309 [==============================] - 0s 254us/step - loss: 0.0523 - acc: 0.9903\n",
      "Epoch 165/200\n",
      "309/309 [==============================] - 0s 263us/step - loss: 0.0466 - acc: 0.9838\n",
      "Epoch 166/200\n",
      "309/309 [==============================] - 0s 284us/step - loss: 0.0381 - acc: 0.9871\n",
      "Epoch 167/200\n",
      "309/309 [==============================] - 0s 250us/step - loss: 0.0383 - acc: 0.9935\n",
      "Epoch 168/200\n",
      "309/309 [==============================] - 0s 271us/step - loss: 0.0443 - acc: 0.9903\n",
      "Epoch 169/200\n",
      "309/309 [==============================] - 0s 279us/step - loss: 0.0431 - acc: 0.9935\n",
      "Epoch 170/200\n",
      "309/309 [==============================] - 0s 254us/step - loss: 0.0311 - acc: 0.9968\n",
      "Epoch 171/200\n",
      "309/309 [==============================] - 0s 275us/step - loss: 0.0325 - acc: 0.9935\n",
      "Epoch 172/200\n",
      "309/309 [==============================] - 0s 279us/step - loss: 0.0365 - acc: 0.9968\n",
      "Epoch 173/200\n",
      "309/309 [==============================] - 0s 303us/step - loss: 0.0621 - acc: 0.9871\n",
      "Epoch 174/200\n",
      "309/309 [==============================] - 0s 289us/step - loss: 0.0254 - acc: 1.0000\n",
      "Epoch 175/200\n",
      "309/309 [==============================] - 0s 276us/step - loss: 0.0312 - acc: 1.0000\n",
      "Epoch 176/200\n",
      "309/309 [==============================] - 0s 312us/step - loss: 0.0352 - acc: 0.9968\n",
      "Epoch 177/200\n",
      "309/309 [==============================] - 0s 274us/step - loss: 0.0261 - acc: 1.0000\n",
      "Epoch 178/200\n",
      "309/309 [==============================] - 0s 277us/step - loss: 0.0732 - acc: 0.9741\n",
      "Epoch 179/200\n",
      "309/309 [==============================] - 0s 271us/step - loss: 0.0464 - acc: 0.9935\n",
      "Epoch 180/200\n",
      "309/309 [==============================] - 0s 303us/step - loss: 0.0353 - acc: 0.9935\n",
      "Epoch 181/200\n",
      "309/309 [==============================] - 0s 246us/step - loss: 0.0350 - acc: 0.9935\n",
      "Epoch 182/200\n",
      "309/309 [==============================] - 0s 259us/step - loss: 0.0330 - acc: 0.9903\n",
      "Epoch 183/200\n",
      "309/309 [==============================] - 0s 266us/step - loss: 0.0443 - acc: 0.9903\n",
      "Epoch 184/200\n",
      "309/309 [==============================] - 0s 260us/step - loss: 0.0337 - acc: 0.9935\n",
      "Epoch 185/200\n",
      "309/309 [==============================] - 0s 271us/step - loss: 0.0289 - acc: 0.9935\n",
      "Epoch 186/200\n",
      "309/309 [==============================] - 0s 285us/step - loss: 0.0443 - acc: 0.9903\n",
      "Epoch 187/200\n",
      "309/309 [==============================] - 0s 296us/step - loss: 0.0374 - acc: 0.9968\n",
      "Epoch 188/200\n",
      "309/309 [==============================] - 0s 288us/step - loss: 0.0272 - acc: 0.9968\n",
      "Epoch 189/200\n",
      "309/309 [==============================] - 0s 271us/step - loss: 0.0382 - acc: 0.9871\n",
      "Epoch 190/200\n",
      "309/309 [==============================] - 0s 282us/step - loss: 0.0466 - acc: 0.9935\n",
      "Epoch 191/200\n",
      "309/309 [==============================] - 0s 297us/step - loss: 0.0321 - acc: 0.9968\n",
      "Epoch 192/200\n",
      "309/309 [==============================] - 0s 271us/step - loss: 0.0478 - acc: 0.9871\n",
      "Epoch 193/200\n",
      "309/309 [==============================] - 0s 278us/step - loss: 0.0279 - acc: 0.9968\n",
      "Epoch 194/200\n",
      "309/309 [==============================] - 0s 310us/step - loss: 0.0337 - acc: 0.9935\n",
      "Epoch 195/200\n",
      "309/309 [==============================] - 0s 279us/step - loss: 0.0354 - acc: 0.9871\n",
      "Epoch 196/200\n",
      "309/309 [==============================] - 0s 285us/step - loss: 0.0373 - acc: 0.9871\n",
      "Epoch 197/200\n",
      "309/309 [==============================] - 0s 286us/step - loss: 0.0440 - acc: 0.9903\n",
      "Epoch 198/200\n",
      "309/309 [==============================] - 0s 279us/step - loss: 0.0274 - acc: 0.9968\n",
      "Epoch 199/200\n",
      "309/309 [==============================] - 0s 284us/step - loss: 0.0188 - acc: 1.0000\n",
      "Epoch 200/200\n",
      "309/309 [==============================] - 0s 273us/step - loss: 0.0311 - acc: 0.9903\n"
     ]
    },
    {
     "name": "stderr",
     "output_type": "stream",
     "text": [
      "INFO:rasa_core.policies.keras_policy:Done fitting keras policy model\n",
      "INFO:rasa_core.agent:Model directory models/dialogue exists and contains old model files. All files will be overwritten.\n",
      "INFO:rasa_core.agent:Persisted model to '/Users/kasra/projects/cai-assignment/lab/models/dialogue'\n"
     ]
    }
   ],
   "source": [
    "from rasa_core.policies import KerasPolicy, MemoizationPolicy\n",
    "from rasa_core.agent import Agent\n",
    "\n",
    "agent = Agent('domain.yml', policies=[MemoizationPolicy(), KerasPolicy()])\n",
    "\n",
    "# loading our training dialogues\n",
    "training_data = agent.load_data('nlu_data/stories.md')\n",
    "\n",
    "agent.train(\n",
    "    training_data,\n",
    "    validation_split=0.0,\n",
    "    epochs=200\n",
    ")\n",
    "\n",
    "agent.persist('models/dialogue')"
   ]
  },
  {
   "cell_type": "markdown",
   "metadata": {},
   "source": [
    "## Testing the Bot\n",
    "\n",
    "We now have everything needed to run the bot. The only remaining thing to take care of is setting up a server listening for requests for custom actions. You can use the following commands and configurations in the assignment to set up the server easily.\n",
    "\n",
    "First we have to define a webhook configuration file:"
   ]
  },
  {
   "cell_type": "code",
   "execution_count": 122,
   "metadata": {},
   "outputs": [
    {
     "name": "stdout",
     "output_type": "stream",
     "text": [
      "action_endpoint:\r\n",
      "  url: \"http://localhost:5055/webhook\""
     ]
    }
   ],
   "source": [
    "%cat endpoint.yml"
   ]
  },
  {
   "cell_type": "markdown",
   "metadata": {},
   "source": [
    "The actions server can now be started with the following command from the command line:\n",
    "\n",
    "**python -m rasa_core_sdk.endpoint --actions actions**\n",
    "\n",
    "After setting up the server, we can start the bot and talk with it!"
   ]
  },
  {
   "cell_type": "code",
   "execution_count": 143,
   "metadata": {},
   "outputs": [
    {
     "name": "stderr",
     "output_type": "stream",
     "text": [
      "INFO:rasa_nlu.components:Added 'nlp_spacy' to component cache. Key 'nlp_spacy-en'.\n"
     ]
    },
    {
     "name": "stdout",
     "output_type": "stream",
     "text": [
      "Your bot is ready to talk! Type your messages here or send 'stop'\n",
      "give me the results for arsenal in 2003-04\n",
      "arsenal won 26 games in the 2003-04 season\n",
      "stop\n"
     ]
    }
   ],
   "source": [
    "import IPython\n",
    "from IPython.display import clear_output\n",
    "from rasa_core.agent import Agent\n",
    "from rasa_core.interpreter import NaturalLanguageInterpreter\n",
    "from rasa_core.utils import EndpointConfig\n",
    "\n",
    "messages = [\"Hi! you can chat in this window. Type 'stop' to end the conversation.\"]\n",
    "interpreter = NaturalLanguageInterpreter.create('models/nlu/default/current/')\n",
    "endpoint = EndpointConfig('http://localhost:5055/webhook')\n",
    "agent = Agent.load('models/dialogue', interpreter=interpreter, action_endpoint = endpoint)\n",
    "tracker = agent.tracker_store.get_or_create_tracker(\"sender_id\") \n",
    "# get current tracker state\n",
    "tracker.current_state()\n",
    "\n",
    "print(\"Your bot is ready to talk! Type your messages here or send 'stop'\")\n",
    "while True:\n",
    "    a = input()\n",
    "    if a == 'stop':\n",
    "        break\n",
    "    responses = agent.handle_text(a)\n",
    "    for response in responses:\n",
    "        print(response[\"text\"])"
   ]
  },
  {
   "cell_type": "markdown",
   "metadata": {},
   "source": [
    "## [OPTIONAL] Generating New Story Graphs\n",
    "\n",
    "You can use the following code to generate new interaction diagrams for your stories. However, due to compatibility issues in the current Rasa version, the process for installing the required library (pygraphviz) is complicated and this part is only in case you are interested."
   ]
  },
  {
   "cell_type": "code",
   "execution_count": 131,
   "metadata": {},
   "outputs": [
    {
     "name": "stderr",
     "output_type": "stream",
     "text": [
      "Processed Story Blocks: 100%|██████████| 7/7 [00:00<00:00, 148.76it/s, # trackers=1]\n"
     ]
    }
   ],
   "source": [
    "from IPython.display import Image\n",
    "from rasa_core.agent import Agent\n",
    "\n",
    "agent = Agent('domain.yml')\n",
    "agent.visualize(\"nlu_data/stories.md\", \"story_graph.png\", max_history=2)"
   ]
  }
 ],
 "metadata": {
  "kernelspec": {
   "display_name": "Python 3",
   "language": "python",
   "name": "python3"
  },
  "language_info": {
   "codemirror_mode": {
    "name": "ipython",
    "version": 3
   },
   "file_extension": ".py",
   "mimetype": "text/x-python",
   "name": "python",
   "nbconvert_exporter": "python",
   "pygments_lexer": "ipython3",
   "version": "3.6.0"
  }
 },
 "nbformat": 4,
 "nbformat_minor": 2
}
